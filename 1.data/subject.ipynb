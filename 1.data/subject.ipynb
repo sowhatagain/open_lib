{
 "cells": [
  {
   "cell_type": "code",
   "execution_count": 1,
   "metadata": {
    "collapsed": true
   },
   "outputs": [],
   "source": [
    "import time\n",
    "import requests\n",
    "import json"
   ]
  },
  {
   "cell_type": "code",
   "execution_count": 2,
   "metadata": {},
   "outputs": [
    {
     "name": "stdout",
     "output_type": "stream",
     "text": [
      "Wall time: 4h 5min 57s\n"
     ]
    }
   ],
   "source": [
    "# подобная конструкция скрипта позволяла избежать бана за прямое скачивание с сайта. \n",
    "# в указанных на сайте \n",
    "\n",
    "%%time\n",
    "with open('science.json', 'r', encoding='utf-8') as fh: #открываем файл на чтение\n",
    "    data = json.load(fh)\n",
    "    \n",
    "for j in range(len(data['works'])):\n",
    "    s = str()\n",
    "    s = data['works'][j]['cover_id']# номер обложки\n",
    "    \n",
    "    if s != None:\n",
    "        response = requests.get('http://covers.openlibrary.org/b/id/'+ str(s) + '-L.jpg')\n",
    "        with open(str(s)+'-science.jpg', 'wb') as f:\n",
    "            f.write(response.content)       "
   ]
  },
  {
   "cell_type": "code",
   "execution_count": null,
   "metadata": {
    "collapsed": true
   },
   "outputs": [],
   "source": []
  }
 ],
 "metadata": {
  "kernelspec": {
   "display_name": "Python 3",
   "language": "python",
   "name": "python3"
  },
  "language_info": {
   "codemirror_mode": {
    "name": "ipython",
    "version": 3
   },
   "file_extension": ".py",
   "mimetype": "text/x-python",
   "name": "python",
   "nbconvert_exporter": "python",
   "pygments_lexer": "ipython3",
   "version": "3.6.2"
  }
 },
 "nbformat": 4,
 "nbformat_minor": 2
}
