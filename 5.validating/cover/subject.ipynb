{
 "cells": [
  {
   "cell_type": "code",
   "execution_count": 4,
   "metadata": {
    "collapsed": true
   },
   "outputs": [],
   "source": [
    "import time\n",
    "import requests\n",
    "import json\n",
    "from tqdm import tqdm_notebook"
   ]
  },
  {
   "cell_type": "code",
   "execution_count": 13,
   "metadata": {},
   "outputs": [
    {
     "data": {
      "application/vnd.jupyter.widget-view+json": {
       "model_id": "ec8b54784d2b44d89abffc7b1ea61d6d",
       "version_major": 2,
       "version_minor": 0
      },
      "text/plain": [
       "A Jupyter Widget"
      ]
     },
     "metadata": {},
     "output_type": "display_data"
    },
    {
     "name": "stdout",
     "output_type": "stream",
     "text": [
      "\n"
     ]
    }
   ],
   "source": [
    "# подобная конструкция скрипта позволяла избежать бана за прямое скачивание с сайта. \n",
    "# в указанных на сайте \n",
    "with open('science fiction.json', 'r', encoding='utf-8') as fh: #открываем файл на чтение\n",
    "    data = json.load(fh)\n",
    "    \n",
    "for j in tqdm_notebook(range(len(data['works']))):\n",
    "    s = str()\n",
    "    s = data['works'][j]['cover_id']# номер обложки\n",
    "    \n",
    "    if s != None:\n",
    "        response = requests.get('http://covers.openlibrary.org/b/id/'+ str(s) + '-L.jpg')\n",
    "        with open(str(s)+'.jpg', 'wb') as f:\n",
    "            f.write(response.content)       "
   ]
  },
  {
   "cell_type": "code",
   "execution_count": null,
   "metadata": {
    "collapsed": true
   },
   "outputs": [],
   "source": []
  },
  {
   "cell_type": "code",
   "execution_count": null,
   "metadata": {
    "collapsed": true
   },
   "outputs": [],
   "source": []
  }
 ],
 "metadata": {
  "kernelspec": {
   "display_name": "Python 3",
   "language": "python",
   "name": "python3"
  },
  "language_info": {
   "codemirror_mode": {
    "name": "ipython",
    "version": 3
   },
   "file_extension": ".py",
   "mimetype": "text/x-python",
   "name": "python",
   "nbconvert_exporter": "python",
   "pygments_lexer": "ipython3",
   "version": "3.6.2"
  }
 },
 "nbformat": 4,
 "nbformat_minor": 2
}
