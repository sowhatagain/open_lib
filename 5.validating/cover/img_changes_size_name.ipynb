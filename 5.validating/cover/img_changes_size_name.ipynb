{
 "cells": [
  {
   "cell_type": "markdown",
   "metadata": {},
   "source": [
    "# Подготовка изображений для работы с CNN\n",
    "\n",
    "Измененин размера изображения на такой, что подается на вход готовых сетей (224 х 224 px).\n",
    "\n",
    "Меняем название изображения на cover_id без принадлежности к тематике."
   ]
  },
  {
   "cell_type": "code",
   "execution_count": null,
   "metadata": {
    "collapsed": true
   },
   "outputs": [],
   "source": []
  },
  {
   "cell_type": "code",
   "execution_count": 1,
   "metadata": {
    "collapsed": true
   },
   "outputs": [],
   "source": [
    "import os\n",
    "import time\n",
    "import glob\n",
    "import cv2\n",
    "import pandas as pd\n",
    "import numpy as np\n",
    "from scipy import misc\n",
    "from PIL import Image"
   ]
  },
  {
   "cell_type": "code",
   "execution_count": 1,
   "metadata": {
    "collapsed": true
   },
   "outputs": [],
   "source": [
    "file_folder = ['children', 'fantasy','medicine', 'music', 'msdt', \n",
    "             'recipes', 'religion', 'romance', 'science', 'scifi']"
   ]
  },
  {
   "cell_type": "code",
   "execution_count": 3,
   "metadata": {
    "collapsed": true
   },
   "outputs": [],
   "source": [
    "# программа изменения размера изображения. Делаем размер, подходящий для нейросети\n",
    "def resize_img(src, dst):\n",
    "\n",
    "    start_time = time.time()\n",
    "\n",
    "    print('Load folder {}'.format(src))\n",
    "    path = os.path.join(src, '*.jpg')\n",
    "    files = glob.glob(path)\n",
    "    for fl in files:\n",
    "        #print(fl)\n",
    "        flbase = src  + '\\\\' +os.path.basename(fl)\n",
    "        #print(flbase)\n",
    "        try:\n",
    "            img = misc.imread(fl, mode = 'RGB')\n",
    "            img = misc.imresize(img, (224, 224))\n",
    "            final = Image.fromarray((img).astype(np.uint8))\n",
    "            final.save(dst + '/' + fl)\n",
    "        except Exception as e:\n",
    "            print(e, 'Failed to process:', fl)\n",
    "    print('Processed train data time: {} seconds'.format(round(time.time() - start_time, 2)))\n",
    "    return"
   ]
  },
  {
   "cell_type": "code",
   "execution_count": 6,
   "metadata": {},
   "outputs": [
    {
     "name": "stdout",
     "output_type": "stream",
     "text": [
      "Load folder \n"
     ]
    },
    {
     "name": "stderr",
     "output_type": "stream",
     "text": [
      "C:\\Users\\blacat\\Anaconda3\\lib\\site-packages\\scipy\\misc\\pilutil.py:482: FutureWarning: Conversion of the second argument of issubdtype from `int` to `np.signedinteger` is deprecated. In future, it will be treated as `np.int32 == np.dtype(int).type`.\n",
      "  if issubdtype(ts, int):\n",
      "C:\\Users\\blacat\\Anaconda3\\lib\\site-packages\\scipy\\misc\\pilutil.py:485: FutureWarning: Conversion of the second argument of issubdtype from `float` to `np.floating` is deprecated. In future, it will be treated as `np.float64 == np.dtype(float).type`.\n",
      "  elif issubdtype(type(size), float):\n"
     ]
    },
    {
     "name": "stdout",
     "output_type": "stream",
     "text": [
      "Processed train data time: 9.67 seconds\n"
     ]
    }
   ],
   "source": [
    "# меняем размер всех файлов\n",
    "src = ''\n",
    "dst = 'new'\n",
    "resize_img(src, dst)"
   ]
  },
  {
   "cell_type": "markdown",
   "metadata": {
    "collapsed": true
   },
   "source": [
    "При скачивании файлов каждому добавляла в название тематику, что оказалось неудобным в работе c конфигураций CNN, когда распознается одновременно 10 классов (тематик). \n",
    "\n",
    "Поэтому поменяем название файла - оставим в названии только 'cover_id'"
   ]
  },
  {
   "cell_type": "code",
   "execution_count": 14,
   "metadata": {
    "collapsed": true
   },
   "outputs": [],
   "source": [
    "repl_str = ['-children', '-fantasy','-meds', '-music', '-mstdt', \n",
    "             '-recipes', '-religion', '-romance', '-science', '-scifi']\n",
    "from glob import glob\n",
    "from os import rename\n",
    "\n",
    "for i in range(0, len(file_folder)):\n",
    "    for fname in glob(file_folder[i]+'\\*.jpg'):\n",
    "        #print(fname)\n",
    "        rename(fname, fname.replace(repl_str[i],''))"
   ]
  }
 ],
 "metadata": {
  "kernelspec": {
   "display_name": "Python 3",
   "language": "python",
   "name": "python3"
  },
  "language_info": {
   "codemirror_mode": {
    "name": "ipython",
    "version": 3
   },
   "file_extension": ".py",
   "mimetype": "text/x-python",
   "name": "python",
   "nbconvert_exporter": "python",
   "pygments_lexer": "ipython3",
   "version": "3.6.2"
  }
 },
 "nbformat": 4,
 "nbformat_minor": 2
}
